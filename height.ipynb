{
 "cells": [
  {
   "cell_type": "code",
   "execution_count": null,
   "metadata": {},
   "outputs": [
    {
     "ename": "",
     "evalue": "",
     "output_type": "error",
     "traceback": [
      "\u001b[1;31m'OCC' でセルを実行するには、 ipykernel パッケージが必要です。\n",
      "\u001b[1;31mRun the following command to install 'ipykernel' into the Python environment. \n",
      "\u001b[1;31mCommand: '/Users/nao0121/BohPJ/oc/OCC/OCC/bin/python -m pip install ipykernel -U --force-reinstall'"
     ]
    }
   ],
   "source": [
    "import csv\n",
    "\n",
    "def load_celebrity_data(file_path):\n",
    "    celebrity_data = []\n",
    "    with open(file_path, 'r', encoding='utf-8') as csvfile:\n",
    "        reader = csv.DictReader(csvfile)\n",
    "        for row in reader:\n",
    "            celebrity_data.append(row)\n",
    "    return celebrity_data\n",
    "\n",
    "def find_similar_celebrities(target_height, target_gender, celebrity_data):\n",
    "    similar_celebrities = []\n",
    "    for celebrity in celebrity_data:\n",
    "        celebrity_height_str = celebrity['身長']\n",
    "        \n",
    "        if celebrity_height_str.strip():  # 空白文字を除去してからチェック\n",
    "            celebrity_height = float(celebrity_height_str)\n",
    "            celebrity_gender = celebrity['性別']\n",
    "            \n",
    "            if (target_gender == \"男\" and 156 <= celebrity_height <= 185) or \\\n",
    "               (target_gender == \"女\" and 148 <= celebrity_height <= 170):\n",
    "                if target_gender == celebrity_gender and \\\n",
    "                   celebrity_height - 1 <= target_height <= celebrity_height + 1:\n",
    "                    similar_celebrities.append(celebrity)\n",
    "    return similar_celebrities\n",
    "\n",
    "def main():\n",
    "    gender_options = [\"男\", \"女\"]\n",
    "\n",
    "    input_gender = input(\"性別を選んでください（男 or 女）: \")\n",
    "    input_height = float(input(\"あなたの身長を入力してください（{}-{}）: \".format(148 if input_gender == \"女\" else 156, 170 if input_gender == \"女\" else 185)))\n",
    "\n",
    "    if input_gender not in gender_options:\n",
    "        print(\"無効な性別です。\")\n",
    "        return\n",
    "\n",
    "    csv_file_path = 'boy.csv' if input_gender == \"男\" else 'girl.csv'\n",
    "    celebrity_data = load_celebrity_data(csv_file_path)\n",
    "\n",
    "    similar_celebrities = find_similar_celebrities(input_height, input_gender, celebrity_data)\n",
    "\n",
    "    if not similar_celebrities:\n",
    "        print(\"該当する芸能人は見つかりませんでした。\")\n",
    "    else:\n",
    "        output_filename = \"similar_celebrities.txt\"\n",
    "        with open(output_filename, \"w\") as f:\n",
    "            f.write(\"該当する芸能人は以下です:\\n\")\n",
    "            for celebrity in similar_celebrities:\n",
    "                f.write(\"名前: {}\\n\".format(celebrity['名前']))\n",
    "                f.write(\"身長: {}\\n\".format(celebrity['身長']))\n",
    "                f.write(\"性別: {}\\n\".format(celebrity['性別']))\n",
    "                f.write(\"上半身割合: {}\\n\".format(celebrity['上半身比率']))\n",
    "                f.write(\"下半身割合: {}\\n\".format(celebrity['下半身比率']))\n",
    "                f.write(\"骨格タイプ: {}\\n\".format(celebrity['骨格タイプ']))\n",
    "                f.write(\"-\" * 30 + \"\\n\")\n",
    "        print(\"該当する芸能人の情報は '{}' というファイルに保存されました。\".format(output_filename))\n",
    "\n",
    "if __name__ == \"__main__\":\n",
    "    main()\n",
    "\n"
   ]
  },
  {
   "cell_type": "code",
   "execution_count": null,
   "metadata": {},
   "outputs": [],
   "source": []
  }
 ],
 "metadata": {
  "kernelspec": {
   "display_name": "0826OC",
   "language": "python",
   "name": "python3"
  },
  "language_info": {
   "codemirror_mode": {
    "name": "ipython",
    "version": 3
   },
   "file_extension": ".py",
   "mimetype": "text/x-python",
   "name": "python",
   "nbconvert_exporter": "python",
   "pygments_lexer": "ipython3",
   "version": "3.9.10"
  },
  "orig_nbformat": 4
 },
 "nbformat": 4,
 "nbformat_minor": 2
}
